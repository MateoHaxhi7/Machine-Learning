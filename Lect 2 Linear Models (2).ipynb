{
 "cells": [
  {
   "cell_type": "markdown",
   "id": "ac426dc0-cec2-4747-9e9b-1c4161941f18",
   "metadata": {
    "tags": []
   },
   "source": [
    "# Linear Models\n",
    "https://scikit-learn.org/stable/modules/linear_model.html#ridge-regression-and-classification"
   ]
  },
  {
   "cell_type": "markdown",
   "id": "ca6f79c8-8edf-4241-9411-683fd65f516b",
   "metadata": {},
   "source": [
    "The following are a set of methods intended for regression in which the target value is expected to be a linear combination of the features. In mathematical notation, if $\\hat{y}$  is the predicted value.\n",
    "$$\\hat{f}(x,w) =w_0+ w_1x_1+ \\ldots + w_px_p$$\n",
    "\n",
    "Across the module, we designate the vector $w=(w_1, \\ldots, w_p)$  as coef_ and $w_0$ as intercept_."
   ]
  },
  {
   "cell_type": "markdown",
   "id": "9cccb625-c630-431d-a1a3-ad5bc7af57ff",
   "metadata": {},
   "source": [
    "## Ordinary Least Squares/Linear Regression\n",
    "\n",
    "The **target/dependent variable** must be a continous variable. For example utility bills could be 100 dollar, 100.04 dollar, or 100.05 dollars etc.\n",
    "\n",
    "\n",
    "LinearRegression fits a linear model with coefficients $w=(w_1, \\ldots, w_p)$ to minimize the residual sum of squares between the observed targets in the dataset, and the targets predicted by the linear approximation. Mathematically it solves a problem of the form:\n",
    "$$\\min_{w}||XW-Y||_2^2$$\n",
    "\n",
    " https://en.wikipedia.org/wiki/Ordinary_least_squares\n",
    " "
   ]
  },
  {
   "cell_type": "markdown",
   "id": "fcb7a55d-8a45-4ded-849d-c2c3064f9da0",
   "metadata": {},
   "source": [
    "You need to summarize your own answer for linear regression. For examfple https://intellipaat.com/blog/interview-question/data-science-interview-questions/#3"
   ]
  },
  {
   "cell_type": "markdown",
   "id": "0c1cc0f5-ae70-4f9e-8c8b-0a39beb0a77c",
   "metadata": {},
   "source": [
    "LinearRegression will take in its fit method arrays X, y and will store the coefficients  of the linear model in its coef_ member:"
   ]
  },
  {
   "cell_type": "code",
   "execution_count": 2,
   "id": "6324408d-9080-4723-98ac-270ef81c6e29",
   "metadata": {},
   "outputs": [
    {
     "name": "stdout",
     "output_type": "stream",
     "text": [
      " intercep = 2.220446049250313e-16 and coefficient = [0.5 0.5]\n"
     ]
    }
   ],
   "source": [
    "# import the model we need\n",
    "from sklearn import linear_model\n",
    "# Generate a model object\n",
    "reg = linear_model.LinearRegression()\n",
    "# we fit the model on the features(X) and label(y)\n",
    "# X = [[0, 0], [1, 1], [2, 2]] first parameter\n",
    "# y= [0, 1, 2], 2nd parameter\n",
    "#model.fit(X,y)\n",
    "reg.fit([[0, 0], [1, 1], [2, 2]], [0, 1, 2])\n",
    "# Get the coefficient\n",
    "print(f\" intercep = {reg.intercept_} and coefficient = {reg.coef_}\")\n",
    "# y= 0.5*x1+0.5x2+2.220446049250313e-16"
   ]
  },
  {
   "cell_type": "markdown",
   "id": "79c11eee-a258-4a19-8ad9-af95ff562bde",
   "metadata": {},
   "source": [
    "The coefficient estimates for Ordinary Least Squares rely on the independence of the features. When features are correlated and the columns of the design matrix  have an approximately linear dependence, the design matrix becomes close to singular and as a result, the least-squares estimate becomes highly sensitive to random errors in the observed target, producing a large variance. This situation of multicollinearity can arise, for example, when data are collected without an experimental design."
   ]
  },
  {
   "cell_type": "markdown",
   "id": "170f66c4-a13a-467b-b341-982d158e9af9",
   "metadata": {},
   "source": [
    "## Linear Regression Example\n",
    "\n",
    "https://en.wikipedia.org/wiki/Training,_validation,_and_test_data_sets\n",
    "\n",
    "The example below uses only the first feature of the diabetes dataset (https://scikit-learn.org/stable/modules/generated/sklearn.datasets.load_diabetes.html), in order to illustrate the data points within the two-dimensional plot. The straight line can be seen in the plot, showing how linear regression attempts to draw a straight line that will best minimize the residual sum of squares between the observed responses in the dataset, and the responses predicted by the linear approximation.\n",
    "\n",
    "The coefficients, residual sum of squares and the coefficient of determination are also calculated."
   ]
  },
  {
   "cell_type": "code",
   "execution_count": 2,
   "id": "ef26b25a-25fc-4f26-8a18-84a3729014f3",
   "metadata": {},
   "outputs": [
    {
     "name": "stdout",
     "output_type": "stream",
     "text": [
      " The size of diabetes_X = (442, 10)\n",
      " The size of diabetes_X = (442, 1)\n",
      "Coefficients: \n",
      " [938.23786125]\n",
      "Mean squared error: 2548.07\n",
      "Coefficient of determination: 0.47\n"
     ]
    },
    {
     "data": {
      "image/png": "[encoded data removed]",
      "text/plain": [
       "<Figure size 432x288 with 1 Axes>"
      ]
     },
     "metadata": {},
     "output_type": "display_data"
    }
   ],
   "source": [
    "# Code source: Jaques Grobler\n",
    "# License: BSD 3 clause\n",
    "\n",
    "# visulize the data\n",
    "import matplotlib.pyplot as plt\n",
    "import numpy as np\n",
    "# import the linear model\n",
    "from sklearn import datasets, linear_model\n",
    "# Evaluate our model performance\n",
    "# regression using mean squared error = mean of the square of the difference between true target and predicted target\n",
    "# the smaller of MSE, the better\n",
    "# The second metric for linear regression is the R squared, the percentage of variable explained.\n",
    "# the larger of R^2, the better. 0<=R^2<=1\n",
    "# https://en.wikipedia.org/wiki/Coefficient_of_determination\n",
    "from sklearn.metrics import mean_squared_error, r2_score\n",
    "\n",
    "# Load the diabetes dataset, we always split the data into features/predictors into X and target/lable is a column vector\n",
    "diabetes_X, diabetes_y = datasets.load_diabetes(return_X_y=True)\n",
    "\n",
    "#check the size of the feature matrix\n",
    "print(\" The size of diabetes_X = {}\".format(diabetes_X.shape))\n",
    "# Use only one feature from 3rd column (indexed by 2)\n",
    "diabetes_X = diabetes_X[:, np.newaxis, 2]\n",
    "print(\" The size of diabetes_X = {}\".format(diabetes_X.shape))\n",
    "# Split the data into training/testing sets to avoid overfiting the dataset\n",
    "# one simple approach, we use the last 20 observation as the test dataset; others as the training dataset\n",
    "diabetes_X_train = diabetes_X[:-20]\n",
    "diabetes_X_test = diabetes_X[-20:]\n",
    "\n",
    "# do the samethng to the lable/target\n",
    "# Split the targets into training/testing sets\n",
    "diabetes_y_train = diabetes_y[:-20]\n",
    "diabetes_y_test = diabetes_y[-20:]\n",
    "\n",
    "# Create linear regression object\n",
    "regr = linear_model.LinearRegression()\n",
    "\n",
    "# Train the model using the training sets\n",
    "regr.fit(diabetes_X_train, diabetes_y_train)\n",
    "\n",
    "# Make predictions using the testing set to evaluate our model\n",
    "# model.preditct(test dataset's featurex (X)\n",
    "diabetes_y_pred = regr.predict(diabetes_X_test)\n",
    "\n",
    "# The coefficients\n",
    "print(\"Coefficients: \\n\", regr.coef_)\n",
    "\n",
    "# Evaluate the model performance on the test dataset; for regression, we typically look at MSE and R^2\n",
    "# The mean squared error using mean_squared_error(true label y_test, predicted y_label\n",
    "print(\"Mean squared error: %.2f\" % mean_squared_error(diabetes_y_test, diabetes_y_pred))\n",
    "# The coefficient of determination: 1 is perfect prediction\n",
    "# r2_score(true label y_test, predicted y_label)\n",
    "print(\"Coefficient of determination: %.2f\" % r2_score(diabetes_y_test, diabetes_y_pred))\n",
    "\n",
    "# Plot outputs since it is in 2 dimensional space y =b0+b1*x\n",
    "plt.scatter(diabetes_X_test, diabetes_y_test, color=\"black\")\n",
    "plt.plot(diabetes_X_test, diabetes_y_pred, color=\"blue\", linewidth=3)\n",
    "\n",
    "plt.xticks(())\n",
    "plt.yticks(())\n",
    "\n",
    "plt.show()"
   ]
  },
  {
   "cell_type": "markdown",
   "id": "dade6cd9-f179-4c84-93fd-0b1d748ab60d",
   "metadata": {},
   "source": [
    "When we look at the MSE, care must be taken. For example, when we forecast the buget of Missouri. The true budget is about 50 billions, if the MSE is 1 million. 1 million/(50 billion) = 1 million (50*1000) million = 0.002%. It is a very good model\n"
   ]
  },
  {
   "cell_type": "markdown",
   "id": "668ce01e-d665-48fa-bc2e-f2e21ac4613e",
   "metadata": {},
   "source": [
    "## Non-Negative Least Squares\n",
    "It is possible to constrain all the coefficients to be non-negative, which may be useful when they represent **some physical or naturally non-negative quantities (e.g., frequency counts or prices of goods)**. LinearRegression accepts a boolean positive parameter: when set to True Non-Negative Least Squares are then applied.\n",
    "\n",
    "In this example, we fit a linear model with **positive constraints on the regression coefficients and compare the estimated coefficients to a classic linear regression**."
   ]
  },
  {
   "cell_type": "code",
   "execution_count": 3,
   "id": "e1425ae1-3728-4044-ae9f-efe51c559919",
   "metadata": {},
   "outputs": [],
   "source": [
    "import numpy as np\n",
    "import matplotlib.pyplot as plt\n",
    "from sklearn.metrics import r2_score"
   ]
  },
  {
   "cell_type": "markdown",
   "id": "e1e98597-5a42-4723-b6fb-3968cc08fc2a",
   "metadata": {},
   "source": [
    "Generate some **random data**"
   ]
  },
  {
   "cell_type": "code",
   "execution_count": 4,
   "id": "e4a2d602-1d21-4cf5-a64d-1e305045c6c0",
   "metadata": {},
   "outputs": [],
   "source": [
    "np.random.seed(42)\n",
    "\n",
    "n_samples, n_features = 200, 50\n",
    "X = np.random.randn(n_samples, n_features)\n",
    "true_coef = 3 * np.random.randn(n_features)\n",
    "# Threshold coefficients to render them non-negative\n",
    "true_coef[true_coef < 0] = 0\n",
    "y = np.dot(X, true_coef)\n",
    "\n",
    "# Add some noise\n",
    "y += 5 * np.random.normal(size=(n_samples,))"
   ]
  },
  {
   "cell_type": "markdown",
   "id": "d3894e15-a543-434f-b9d1-22d2f37f2923",
   "metadata": {},
   "source": [
    "Split the data in train set and test set using train_test_split, which is a better approach than simple split before\n",
    "\n",
    "https://scikit-learn.org/stable/modules/generated/sklearn.model_selection.train_test_split.html\n"
   ]
  },
  {
   "cell_type": "code",
   "execution_count": 5,
   "id": "40cc3baa-b146-4eb7-a285-d01c0a14403f",
   "metadata": {},
   "outputs": [],
   "source": [
    "from sklearn.model_selection import train_test_split\n",
    "\n",
    "#train_test_split(featurem matrix, label column, test size percentage)\n",
    "# it returns four parts of training feature X_train, test feature X_test; training label y_train and test label: y_test\n",
    "X_train, X_test, y_train, y_test = train_test_split(X, y, test_size=0.5)"
   ]
  },
  {
   "cell_type": "markdown",
   "id": "6056e3be-1679-4e6e-a6fb-fb2dc78a9395",
   "metadata": {},
   "source": [
    "Fit the Non-Negative least squares."
   ]
  },
  {
   "cell_type": "code",
   "execution_count": 6,
   "id": "36760d54-6c36-405b-8e4b-be336a25dd45",
   "metadata": {},
   "outputs": [
    {
     "name": "stdout",
     "output_type": "stream",
     "text": [
      "NNLS R2 score 0.8225220806196525\n"
     ]
    }
   ],
   "source": [
    "from sklearn.linear_model import LinearRegression\n",
    "\n",
    "# set positive=True and gurantee the coefficient is positive\n",
    "reg_nnls = LinearRegression(positive=True)\n",
    "# note here, we typical do prediction first using  reg_nnls.fit(X_train, y_train)\n",
    "# then predict using reg_nnls.predict(X_test)\n",
    "#chain them together using on line of code\n",
    "\n",
    "y_pred_nnls = reg_nnls.fit(X_train, y_train).predict(X_test)\n",
    "#evaluate our model\n",
    "r2_score_nnls = r2_score(y_test, y_pred_nnls)\n",
    "print(\"NNLS R2 score\", r2_score_nnls)"
   ]
  },
  {
   "cell_type": "markdown",
   "id": "edbc34af-d0ad-4015-b64a-c5cc74bcd7d3",
   "metadata": {},
   "source": [
    "Fit an OLS."
   ]
  },
  {
   "cell_type": "code",
   "execution_count": 7,
   "id": "c95bd6ac-8cce-4cb4-9fc3-7387790e7706",
   "metadata": {},
   "outputs": [
    {
     "name": "stdout",
     "output_type": "stream",
     "text": [
      "OLS R2 score 0.7436926291700352\n"
     ]
    }
   ],
   "source": [
    "reg_ols = LinearRegression()\n",
    "y_pred_ols = reg_ols.fit(X_train, y_train).predict(X_test)\n",
    "r2_score_ols = r2_score(y_test, y_pred_ols)\n",
    "print(\"OLS R2 score\", r2_score_ols)"
   ]
  },
  {
   "cell_type": "markdown",
   "id": "7c7cdad6-a3e3-4e59-bb7c-0a729c67e0e2",
   "metadata": {},
   "source": [
    "Comparing the regression coefficients between OLS and NNLS, we can observe they are highly correlated (the dashed line is the identity relation), but the non-negative constraint shrinks some to 0. The Non-Negative Least squares inherently yield sparse results."
   ]
  },
  {
   "cell_type": "code",
   "execution_count": 8,
   "id": "58922e7d-770c-47ad-92ea-acc80efefb72",
   "metadata": {},
   "outputs": [
    {
     "data": {
      "text/plain": [
       "Text(0, 0.5, 'NNLS regression coefficients')"
      ]
     },
     "execution_count": 8,
     "metadata": {},
     "output_type": "execute_result"
    },
    {
     "data": {
      "image/png": "[encoded data removed]",
      "text/plain": [
       "<Figure size 432x288 with 1 Axes>"
      ]
     },
     "metadata": {
      "needs_background": "light"
     },
     "output_type": "display_data"
    }
   ],
   "source": [
    "fig, ax = plt.subplots()\n",
    "ax.plot(reg_ols.coef_, reg_nnls.coef_, linewidth=0, marker=\".\")\n",
    "\n",
    "low_x, high_x = ax.get_xlim()\n",
    "low_y, high_y = ax.get_ylim()\n",
    "low = max(low_x, low_y)\n",
    "high = min(high_x, high_y)\n",
    "ax.plot([low, high], [low, high], ls=\"--\", c=\".3\", alpha=0.5)\n",
    "ax.set_xlabel(\"OLS regression coefficients\", fontweight=\"bold\")\n",
    "ax.set_ylabel(\"NNLS regression coefficients\", fontweight=\"bold\")"
   ]
  },
  {
   "cell_type": "markdown",
   "id": "77d8b5f1-c9e4-4c7b-bbb2-b26c93937901",
   "metadata": {},
   "source": [
    "## Ridge regression and classification\n",
    "\n",
    "https://en.wikipedia.org/wiki/Ridge_regression\n"
   ]
  },
  {
   "cell_type": "markdown",
   "id": "9f1c7aa1-2fe2-4398-bd5e-6651d91c080d",
   "metadata": {},
   "source": [
    "### Regression\n",
    "\n",
    "Ridge regression addresses some of the problems of Ordinary Least Squares by imposing a penalty on the size of the coefficients. The ridge coefficients minimize a penalized residual sum of squares:\n",
    "$$\\min_w||XW-Y||_2^2+\\alpha||W||_2^2$$\n",
    "The complexity parameter $\\alpha \\ge 0$ controls the amount of shrinkage: the larger the value of , the greater the amount of shrinkage and thus the coefficients become more robust to collinearity.\n",
    "\n",
    "For example if $\\alpha$= 1 trillion, since we want to find the minimum, it will force the coefficient to zero. On the other hand if $\\alpha=0$, it becomes the OLS."
   ]
  },
  {
   "cell_type": "markdown",
   "id": "37b1b6c9-d756-4a53-adb9-66a2e1f132fe",
   "metadata": {},
   "source": [
    "As with other linear models, Ridge will take in its fit method arrays X, y and will store the coefficients  of the linear model in its coef_ member:"
   ]
  },
  {
   "cell_type": "code",
   "execution_count": 9,
   "id": "ad7c3c4a-794d-4853-8025-4fe51a759e2b",
   "metadata": {},
   "outputs": [
    {
     "data": {
      "text/plain": [
       "0.1363636363636364"
      ]
     },
     "execution_count": 9,
     "metadata": {},
     "output_type": "execute_result"
    }
   ],
   "source": [
    "# import the library\n",
    "from sklearn import linear_model\n",
    "# Create a ridge model object by specifying alpha\n",
    "reg = linear_model.Ridge(alpha=.5)\n",
    "# the rest part is exctly the same as OLS\n",
    "reg.fit([[0, 0], [0, 0], [1, 1]], [0, .1, 1])\n",
    "\n",
    "reg.coef_\n",
    "\n",
    "reg.intercept_\n",
    "\n",
    "# we can also evaluate our model performance using r2_score, MSE etc"
   ]
  },
  {
   "cell_type": "markdown",
   "id": "65d4f7a7-a93e-4789-8ee7-a25918777422",
   "metadata": {},
   "source": [
    "## Lasso\n",
    "https://en.wikipedia.org/wiki/Lasso_(statistics)\n",
    "\n",
    "The Lasso is a linear model that estimates **sparse coefficients**(close to zeros). It is useful in some contexts due to its tendency to prefer solutions with fewer non-zero coefficients, effectively reducing the number of features upon which the given solution is dependent. For this reason, Lasso and its variants are fundamental to the field of compressed sensing. Under certain conditions, it can recover the exact set of non-zero coefficients (see Compressive sensing: tomography reconstruction with L1 prior (Lasso)).\n",
    "\n",
    "Mathematically, it consists of a linear model with an added regularization term. The objective function to minimize is:\n",
    "\n",
    "$$ \\min_w\\frac{1}{n_{sample}}||XW-y||_2^2+\\alpha||w||_1$$\n",
    " \n",
    " The first part is MSE, the second part, we use absolute values|| instead of squares, that is used in the ridge regression.\n",
    "The lasso estimate thus solves the minimization of the least-squares penalty with$\\alpha||w||_1$  added, where$\\alpha$  is a constant and $||w||_1$  is the $l_1$ -norm of the coefficient vector. The abosulute values may help force some coefficients to be zeros.\n",
    "\n",
    "The larger the $\\alpha$, the quick of some coefficient to get zero. If $\\alpha=0$, it becomes OLS.\n",
    "\n",
    "The implementation in the class Lasso uses coordinate descent as the algorithm to fit the coefficients. See Least Angle Regression for another implementation:"
   ]
  },
  {
   "cell_type": "code",
   "execution_count": 3,
   "id": "3a317991-39bc-434c-b187-66929f16e4c4",
   "metadata": {
    "tags": []
   },
   "outputs": [
    {
     "data": {
      "text/plain": [
       "array([0.8])"
      ]
     },
     "execution_count": 3,
     "metadata": {},
     "output_type": "execute_result"
    }
   ],
   "source": [
    "from sklearn import linear_model\n",
    "# the only difference between lasso and OLS is the following line of code\n",
    "reg = linear_model.Lasso(alpha=0.1)\n",
    "reg.fit([[0, 0], [1, 1]], [0, 1])\n",
    "\n",
    "reg.predict([[1, 1]])\n"
   ]
  },
  {
   "cell_type": "markdown",
   "id": "e6e55e9e-7adc-459a-b403-970c7ca9a3c0",
   "metadata": {},
   "source": [
    "## Least Angle Regression\n",
    "\n",
    "https://en.wikipedia.org/wiki/Least-angle_regression\n",
    "\n",
    "Least-angle regression (LARS) is a regression algorithm for high-dimensional data, developed by Bradley Efron, Trevor Hastie, Iain Johnstone and Robert Tibshirani. LARS is similar to forward stepwise regression. At each step, it finds the feature most correlated with the target. When there are multiple features having equal correlation, instead of continuing along the same feature, it proceeds in a direction equiangular between the features.\n",
    "\n",
    "The advantages of LARS are:\n",
    "\n",
    "+ It is numerically efficient in contexts where the number of features is significantly greater than the number of samples.\n",
    "\n",
    "+ It is computationally just as fast as forward selection and has the same order of complexity as ordinary least squares.\n",
    "\n",
    "+ It produces a full piecewise linear solution path, which is useful in cross-validation or similar attempts to tune the model.\n",
    "\n",
    "+ If two features are almost equally correlated with the target, then their coefficients should increase at approximately the same rate. The algorithm thus behaves as intuition would expect, and also is more stable.\n",
    "\n",
    "+ It is easily modified to produce solutions for other estimators, like the Lasso.\n",
    "\n",
    "The disadvantages of the LARS method include:\n",
    "\n",
    "+ Because LARS is based upon an iterative refitting of the residuals, it would appear to be especially sensitive to the effects of noise. This problem is discussed in detail by Weisberg in the discussion section of the Efron et al. (2004) Annals of Statistics article.\n",
    "\n",
    "The LARS model can be used via the estimator Lars, or its low-level implementation lars_path or lars_path_gram."
   ]
  },
  {
   "cell_type": "markdown",
   "id": "c8f91f3d-48e6-4a90-8c11-6dfcd76828ec",
   "metadata": {},
   "source": [
    "## LARS Lasso\n",
    "LassoLars is a lasso model implemented using the LARS algorithm, and unlike the implementation based on coordinate descent, this yields the exact solution, which is piecewise linear as a function of the norm of its coefficients."
   ]
  },
  {
   "cell_type": "code",
   "execution_count": 11,
   "id": "6c501feb-efa4-4f60-9f61-ed00f28cf3d5",
   "metadata": {},
   "outputs": [
    {
     "data": {
      "text/plain": [
       "array([0.6, 0. ])"
      ]
     },
     "execution_count": 11,
     "metadata": {},
     "output_type": "execute_result"
    }
   ],
   "source": [
    "from sklearn import linear_model\n",
    "# the only difference is the LARS Lasso model\n",
    "reg = linear_model.LassoLars(alpha=.1, normalize=False)\n",
    "reg.fit([[0, 0], [1, 1]], [0, 1])\n",
    "reg.coef_"
   ]
  },
  {
   "cell_type": "markdown",
   "id": "8e27bae6-e5b3-4c8b-9516-8e87e205b664",
   "metadata": {},
   "source": [
    "## Setting regularization parameter\n",
    "We need to select the alpha parameter first, then estimate the cofficient. Classical example for hyper parameter is the $\\alpha$ in ridge and lasso regression.\n",
    "\n",
    "\n",
    "https://en.wikipedia.org/wiki/Hyperparameter_(machine_learning)\n",
    "\n",
    "The alpha parameter controls the degree of sparsity of the estimated coefficients.\n",
    "+ Using cross-validation\n",
    "+ Information-criteria based model selection\n",
    "\n",
    "https://scikit-learn.org/stable/modules/linear_model.html#ridge-regression-and-classification\n"
   ]
  },
  {
   "cell_type": "markdown",
   "id": "dde6a4d9-b5a3-4052-9cd8-bc2121372c43",
   "metadata": {},
   "source": [
    "# stop here 8/31"
   ]
  },
  {
   "cell_type": "markdown",
   "id": "4b98d8b2-bbad-4506-b215-a8f81f91e2ca",
   "metadata": {},
   "source": [
    "## Lasso model selection: AIC-BIC and  cross-validation\n",
    "\n",
    "There are two classical approach to select hyperparamerters such as $\\alpha$ in ridge and lasso regression\n",
    "\n",
    "+ AIC/BIC: information creteira; heavily based on statistics. We need to know two key formula in the following wikipedia site.\n",
    "$$\n",
    "AIC = 2k -2\\ln(L) = 2* \\text{number of parameters}-2*\\ln(\\text{Likelihood estimation})\n",
    "$$\n",
    "$$\n",
    "BIC = k*\\ln(n) -2\\ln(L) = \\ln(\\text{number of observations})* \\text{number of parameters}-2*\\ln(\\text{Likelihood estimation})\n",
    "$$\n",
    "BIC put a heavey penalty on the number of parameters\n",
    "When we increase the number of parameters, the Likelihood function increases too.\n",
    "+ CV: cross-validation approach: There is no stat involved at all\n",
    "\n",
    "When we increase the number of paramter, it will make $2k$ larger, and the Likelihood estimation increases too. Then $\\ln(\\text{Likelihood estimation}$ increase too.\n",
    "but $-2*\\ln(\\text{Likelihood estimation}$ decrease. it strikes a balance between the first term and second number.\n",
    "\n",
    "Our goal is to find the optimal $k$ to minimize the AIC/BIC.\n",
    "\n",
    "\n",
    "https://en.wikipedia.org/wiki/Akaike_information_criterion\n",
    "\n",
    "https://en.wikipedia.org/wiki/Bayesian_information_criterion\n",
    "\n",
    "\n",
    "\n",
    "This example focuses on model selection for Lasso models that are linear models with an L1 penalty for regression problems.\n",
    "\n",
    "Indeed, several strategies can be used to select the value of the regularization parameter: via cross-validation or using an information criterion, namely AIC or BIC.\n",
    "\n",
    "In what follows, we will discuss in details the different strategies.\n"
   ]
  },
  {
   "cell_type": "markdown",
   "id": "cfe2201d-2645-486b-a176-52af4b1884b5",
   "metadata": {},
   "source": [
    "Which one is better AIC or BIC\n",
    "\n",
    "https://stats.stackexchange.com/questions/577/is-there-any-reason-to-prefer-the-aic-or-bic-over-the-other"
   ]
  },
  {
   "cell_type": "code",
   "execution_count": 1,
   "id": "dd6138e9-e87b-40fb-b393-9e758336e92c",
   "metadata": {},
   "outputs": [],
   "source": [
    "# Author: Olivier Grisel\n",
    "#         Gael Varoquaux\n",
    "#         Alexandre Gramfort\n",
    "#         Guillaume Lemaitre\n",
    "# License: BSD 3 clause"
   ]
  },
  {
   "cell_type": "markdown",
   "id": "61a95850-051e-4282-b1bc-ac8a8c1de824",
   "metadata": {},
   "source": [
    "#### Dataset\n",
    "\n",
    "In this example, we will use the diabetes dataset."
   ]
  },
  {
   "cell_type": "code",
   "execution_count": 13,
   "id": "a9048d55-c4c8-47f1-b9b7-1be289638cb4",
   "metadata": {},
   "outputs": [
    {
     "data": {
      "text/html": [
       "<div>\n",
       "<style scoped>\n",
       "    .dataframe tbody tr th:only-of-type {\n",
       "        vertical-align: middle;\n",
       "    }\n",
       "\n",
       "    .dataframe tbody tr th {\n",
       "        vertical-align: top;\n",
       "    }\n",
       "\n",
       "    .dataframe thead th {\n",
       "        text-align: right;\n",
       "    }\n",
       "</style>\n",
       "<table border=\"1\" class=\"dataframe\">\n",
       "  <thead>\n",
       "    <tr style=\"text-align: right;\">\n",
       "      <th></th>\n",
       "      <th>age</th>\n",
       "      <th>sex</th>\n",
       "      <th>bmi</th>\n",
       "      <th>bp</th>\n",
       "      <th>s1</th>\n",
       "      <th>s2</th>\n",
       "      <th>s3</th>\n",
       "      <th>s4</th>\n",
       "      <th>s5</th>\n",
       "      <th>s6</th>\n",
       "    </tr>\n",
       "  </thead>\n",
       "  <tbody>\n",
       "    <tr>\n",
       "      <th>0</th>\n",
       "      <td>0.038076</td>\n",
       "      <td>0.050680</td>\n",
       "      <td>0.061696</td>\n",
       "      <td>0.021872</td>\n",
       "      <td>-0.044223</td>\n",
       "      <td>-0.034821</td>\n",
       "      <td>-0.043401</td>\n",
       "      <td>-0.002592</td>\n",
       "      <td>0.019908</td>\n",
       "      <td>-0.017646</td>\n",
       "    </tr>\n",
       "    <tr>\n",
       "      <th>1</th>\n",
       "      <td>-0.001882</td>\n",
       "      <td>-0.044642</td>\n",
       "      <td>-0.051474</td>\n",
       "      <td>-0.026328</td>\n",
       "      <td>-0.008449</td>\n",
       "      <td>-0.019163</td>\n",
       "      <td>0.074412</td>\n",
       "      <td>-0.039493</td>\n",
       "      <td>-0.068330</td>\n",
       "      <td>-0.092204</td>\n",
       "    </tr>\n",
       "    <tr>\n",
       "      <th>2</th>\n",
       "      <td>0.085299</td>\n",
       "      <td>0.050680</td>\n",
       "      <td>0.044451</td>\n",
       "      <td>-0.005671</td>\n",
       "      <td>-0.045599</td>\n",
       "      <td>-0.034194</td>\n",
       "      <td>-0.032356</td>\n",
       "      <td>-0.002592</td>\n",
       "      <td>0.002864</td>\n",
       "      <td>-0.025930</td>\n",
       "    </tr>\n",
       "    <tr>\n",
       "      <th>3</th>\n",
       "      <td>-0.089063</td>\n",
       "      <td>-0.044642</td>\n",
       "      <td>-0.011595</td>\n",
       "      <td>-0.036656</td>\n",
       "      <td>0.012191</td>\n",
       "      <td>0.024991</td>\n",
       "      <td>-0.036038</td>\n",
       "      <td>0.034309</td>\n",
       "      <td>0.022692</td>\n",
       "      <td>-0.009362</td>\n",
       "    </tr>\n",
       "    <tr>\n",
       "      <th>4</th>\n",
       "      <td>0.005383</td>\n",
       "      <td>-0.044642</td>\n",
       "      <td>-0.036385</td>\n",
       "      <td>0.021872</td>\n",
       "      <td>0.003935</td>\n",
       "      <td>0.015596</td>\n",
       "      <td>0.008142</td>\n",
       "      <td>-0.002592</td>\n",
       "      <td>-0.031991</td>\n",
       "      <td>-0.046641</td>\n",
       "    </tr>\n",
       "  </tbody>\n",
       "</table>\n",
       "</div>"
      ],
      "text/plain": [
       "        age       sex       bmi        bp        s1        s2        s3  \\\n",
       "0  0.038076  0.050680  0.061696  0.021872 -0.044223 -0.034821 -0.043401   \n",
       "1 -0.001882 -0.044642 -0.051474 -0.026328 -0.008449 -0.019163  0.074412   \n",
       "2  0.085299  0.050680  0.044451 -0.005671 -0.045599 -0.034194 -0.032356   \n",
       "3 -0.089063 -0.044642 -0.011595 -0.036656  0.012191  0.024991 -0.036038   \n",
       "4  0.005383 -0.044642 -0.036385  0.021872  0.003935  0.015596  0.008142   \n",
       "\n",
       "         s4        s5        s6  \n",
       "0 -0.002592  0.019908 -0.017646  \n",
       "1 -0.039493 -0.068330 -0.092204  \n",
       "2 -0.002592  0.002864 -0.025930  \n",
       "3  0.034309  0.022692 -0.009362  \n",
       "4 -0.002592 -0.031991 -0.046641  "
      ]
     },
     "execution_count": 13,
     "metadata": {},
     "output_type": "execute_result"
    }
   ],
   "source": [
    "from sklearn.datasets import load_diabetes\n",
    "\n",
    "X, y = load_diabetes(return_X_y=True, as_frame=True)\n",
    "X.head()"
   ]
  },
  {
   "cell_type": "markdown",
   "id": "8f740aee-bb9c-4b60-83a6-c987ee57a2fc",
   "metadata": {},
   "source": [
    "In addition, we add some random features to the original data to better illustrate the feature selection performed by the Lasso model."
   ]
  },
  {
   "cell_type": "code",
   "execution_count": 14,
   "id": "7dad747a-6b5d-4773-99b7-34fa4c9d66c4",
   "metadata": {},
   "outputs": [
    {
     "data": {
      "text/html": [
       "<div>\n",
       "<style scoped>\n",
       "    .dataframe tbody tr th:only-of-type {\n",
       "        vertical-align: middle;\n",
       "    }\n",
       "\n",
       "    .dataframe tbody tr th {\n",
       "        vertical-align: top;\n",
       "    }\n",
       "\n",
       "    .dataframe thead th {\n",
       "        text-align: right;\n",
       "    }\n",
       "</style>\n",
       "<table border=\"1\" class=\"dataframe\">\n",
       "  <thead>\n",
       "    <tr style=\"text-align: right;\">\n",
       "      <th></th>\n",
       "      <th>age</th>\n",
       "      <th>bp</th>\n",
       "      <th>s3</th>\n",
       "      <th>s6</th>\n",
       "      <th>random_02</th>\n",
       "      <th>random_05</th>\n",
       "      <th>random_08</th>\n",
       "      <th>random_11</th>\n",
       "    </tr>\n",
       "  </thead>\n",
       "  <tbody>\n",
       "    <tr>\n",
       "      <th>0</th>\n",
       "      <td>0.038076</td>\n",
       "      <td>0.021872</td>\n",
       "      <td>-0.043401</td>\n",
       "      <td>-0.017646</td>\n",
       "      <td>0.647689</td>\n",
       "      <td>-0.234137</td>\n",
       "      <td>-0.469474</td>\n",
       "      <td>-0.465730</td>\n",
       "    </tr>\n",
       "    <tr>\n",
       "      <th>1</th>\n",
       "      <td>-0.001882</td>\n",
       "      <td>-0.026328</td>\n",
       "      <td>0.074412</td>\n",
       "      <td>-0.092204</td>\n",
       "      <td>-1.012831</td>\n",
       "      <td>-1.412304</td>\n",
       "      <td>0.067528</td>\n",
       "      <td>0.110923</td>\n",
       "    </tr>\n",
       "    <tr>\n",
       "      <th>2</th>\n",
       "      <td>0.085299</td>\n",
       "      <td>-0.005671</td>\n",
       "      <td>-0.032356</td>\n",
       "      <td>-0.025930</td>\n",
       "      <td>-0.601707</td>\n",
       "      <td>-1.057711</td>\n",
       "      <td>0.208864</td>\n",
       "      <td>0.196861</td>\n",
       "    </tr>\n",
       "    <tr>\n",
       "      <th>3</th>\n",
       "      <td>-0.089063</td>\n",
       "      <td>-0.036656</td>\n",
       "      <td>-0.036038</td>\n",
       "      <td>-0.009362</td>\n",
       "      <td>-1.478522</td>\n",
       "      <td>1.057122</td>\n",
       "      <td>0.324084</td>\n",
       "      <td>0.611676</td>\n",
       "    </tr>\n",
       "    <tr>\n",
       "      <th>4</th>\n",
       "      <td>0.005383</td>\n",
       "      <td>0.021872</td>\n",
       "      <td>0.008142</td>\n",
       "      <td>-0.046641</td>\n",
       "      <td>0.331263</td>\n",
       "      <td>-0.185659</td>\n",
       "      <td>0.812526</td>\n",
       "      <td>1.003533</td>\n",
       "    </tr>\n",
       "  </tbody>\n",
       "</table>\n",
       "</div>"
      ],
      "text/plain": [
       "        age        bp        s3        s6  random_02  random_05  random_08  \\\n",
       "0  0.038076  0.021872 -0.043401 -0.017646   0.647689  -0.234137  -0.469474   \n",
       "1 -0.001882 -0.026328  0.074412 -0.092204  -1.012831  -1.412304   0.067528   \n",
       "2  0.085299 -0.005671 -0.032356 -0.025930  -0.601707  -1.057711   0.208864   \n",
       "3 -0.089063 -0.036656 -0.036038 -0.009362  -1.478522   1.057122   0.324084   \n",
       "4  0.005383  0.021872  0.008142 -0.046641   0.331263  -0.185659   0.812526   \n",
       "\n",
       "   random_11  \n",
       "0  -0.465730  \n",
       "1   0.110923  \n",
       "2   0.196861  \n",
       "3   0.611676  \n",
       "4   1.003533  "
      ]
     },
     "execution_count": 14,
     "metadata": {},
     "output_type": "execute_result"
    }
   ],
   "source": [
    "import numpy as np\n",
    "import pandas as pd\n",
    "\n",
    "rng = np.random.RandomState(42)\n",
    "n_random_features = 14\n",
    "X_random = pd.DataFrame(\n",
    "    rng.randn(X.shape[0], n_random_features),\n",
    "    columns=[f\"random_{i:02d}\" for i in range(n_random_features)],\n",
    ")\n",
    "X = pd.concat([X, X_random], axis=1)\n",
    "# Show only a subset of the columns\n",
    "X[X.columns[::3]].head()"
   ]
  },
  {
   "cell_type": "markdown",
   "id": "15351782-bdd7-4dc3-bdfb-8ec450e3aaf9",
   "metadata": {},
   "source": [
    "## Selecting Lasso via an information criterion\n",
    "\n",
    "The $\\alpha$ in the Lasso algorithm cannot estimate from data at all, which is called hyperparameters. The user need to select mannualy.\n",
    "But for the weights $W$, which is estimated from data\n",
    "\n",
    "LassoLarsIC provides a Lasso estimator that uses the Akaike information criterion (AIC) or the Bayes information criterion (BIC) to select the optimal value of the regularization parameter alpha.\n",
    "\n",
    "Before fitting the model, we will standardize the data with a StandardScaler. In addition, we will measure the time to fit and tune the hyperparameter alpha in order to compare with the cross-validation strategy.\n",
    "\n",
    "https://scikit-learn.org/stable/modules/generated/sklearn.linear_model.LassoLarsIC.html\n",
    "\n",
    "\n",
    "We will first fit a Lasso model with the AIC criterion."
   ]
  },
  {
   "cell_type": "code",
   "execution_count": 15,
   "id": "492154b9-bcbf-439c-991e-f03244713692",
   "metadata": {},
   "outputs": [],
   "source": [
    "import time\n",
    "from sklearn.preprocessing import StandardScaler\n",
    "from sklearn.linear_model import LassoLarsIC\n",
    "from sklearn.pipeline import make_pipeline\n",
    "\n",
    "#time the codes\n",
    "start_time = time.time()\n",
    "lasso_lars_ic = make_pipeline(\n",
    "    StandardScaler(), LassoLarsIC(criterion=\"aic\", normalize=False)\n",
    ").fit(X, y)\n",
    "fit_time = time.time() - start_time"
   ]
  },
  {
   "cell_type": "markdown",
   "id": "9b248a2b-d91d-4736-a42a-95b14fe2ff3f",
   "metadata": {},
   "source": [
    "We store the AIC metric for each value of alpha used during fit."
   ]
  },
  {
   "cell_type": "code",
   "execution_count": 16,
   "id": "81cfde62-0bca-4131-9310-4c7432852918",
   "metadata": {},
   "outputs": [],
   "source": [
    "results = pd.DataFrame(\n",
    "    {\n",
    "        \"alphas\": lasso_lars_ic[-1].alphas_,\n",
    "        \"AIC criterion\": lasso_lars_ic[-1].criterion_,\n",
    "    }\n",
    ").set_index(\"alphas\")\n",
    "alpha_aic = lasso_lars_ic[-1].alpha_"
   ]
  },
  {
   "cell_type": "markdown",
   "id": "60a2836c-ca06-497a-9b62-a01c25373172",
   "metadata": {},
   "source": [
    "Now, we perform the same analysis using the BIC criterion."
   ]
  },
  {
   "cell_type": "code",
   "execution_count": 17,
   "id": "ccc39c90-114f-4802-a317-312239ebad94",
   "metadata": {},
   "outputs": [],
   "source": [
    "lasso_lars_ic.set_params(lassolarsic__criterion=\"bic\").fit(X, y)\n",
    "results[\"BIC criterion\"] = lasso_lars_ic[-1].criterion_\n",
    "alpha_bic = lasso_lars_ic[-1].alpha_"
   ]
  },
  {
   "cell_type": "markdown",
   "id": "b72ba238-ee64-44e8-9acb-e9a5cda5d077",
   "metadata": {},
   "source": [
    "We can check which value of alpha leads to the minimum AIC and BIC."
   ]
  },
  {
   "cell_type": "code",
   "execution_count": 18,
   "id": "2c76494c-4dcf-4ad0-bde4-38edbf73a897",
   "metadata": {},
   "outputs": [],
   "source": [
    "def highlight_min(x):\n",
    "    x_min = x.min()\n",
    "    return [\"font-weight: bold\" if v == x_min else \"\" for v in x]\n"
   ]
  },
  {
   "cell_type": "code",
   "execution_count": 19,
   "id": "15ae324d-4248-449f-b25b-4bb765ed46ba",
   "metadata": {},
   "outputs": [
    {
     "data": {
      "text/html": [
       "<style type=\"text/css\">\n",
       "#T_05cfb_row4_col1, #T_05cfb_row6_col0 {\n",
       "  font-weight: bold;\n",
       "}\n",
       "</style>\n",
       "<table id=\"T_05cfb_\">\n",
       "  <thead>\n",
       "    <tr>\n",
       "      <th class=\"blank level0\" >&nbsp;</th>\n",
       "      <th class=\"col_heading level0 col0\" >AIC criterion</th>\n",
       "      <th class=\"col_heading level0 col1\" >BIC criterion</th>\n",
       "    </tr>\n",
       "    <tr>\n",
       "      <th class=\"index_name level0\" >alphas</th>\n",
       "      <th class=\"blank col0\" >&nbsp;</th>\n",
       "      <th class=\"blank col1\" >&nbsp;</th>\n",
       "    </tr>\n",
       "  </thead>\n",
       "  <tbody>\n",
       "    <tr>\n",
       "      <th id=\"T_05cfb_level0_row0\" class=\"row_heading level0 row0\" >45.16003002046289</th>\n",
       "      <td id=\"T_05cfb_row0_col0\" class=\"data row0 col0\" >442.000000</td>\n",
       "      <td id=\"T_05cfb_row0_col1\" class=\"data row0 col1\" >442.000000</td>\n",
       "    </tr>\n",
       "    <tr>\n",
       "      <th id=\"T_05cfb_level0_row1\" class=\"row_heading level0 row1\" >42.300447976855814</th>\n",
       "      <td id=\"T_05cfb_row1_col0\" class=\"data row1 col0\" >425.358090</td>\n",
       "      <td id=\"T_05cfb_row1_col1\" class=\"data row1 col1\" >429.449400</td>\n",
       "    </tr>\n",
       "    <tr>\n",
       "      <th id=\"T_05cfb_level0_row2\" class=\"row_heading level0 row2\" >21.542302256518873</th>\n",
       "      <td id=\"T_05cfb_row2_col0\" class=\"data row2 col0\" >290.745663</td>\n",
       "      <td id=\"T_05cfb_row2_col1\" class=\"data row2 col1\" >298.928283</td>\n",
       "    </tr>\n",
       "    <tr>\n",
       "      <th id=\"T_05cfb_level0_row3\" class=\"row_heading level0 row3\" >15.034109542941795</th>\n",
       "      <td id=\"T_05cfb_row3_col0\" class=\"data row3 col0\" >263.536975</td>\n",
       "      <td id=\"T_05cfb_row3_col1\" class=\"data row3 col1\" >275.810905</td>\n",
       "    </tr>\n",
       "    <tr>\n",
       "      <th id=\"T_05cfb_level0_row4\" class=\"row_heading level0 row4\" >6.189693385716014</th>\n",
       "      <td id=\"T_05cfb_row4_col0\" class=\"data row4 col0\" >238.313800</td>\n",
       "      <td id=\"T_05cfb_row4_col1\" class=\"data row4 col1\" >254.679040</td>\n",
       "    </tr>\n",
       "    <tr>\n",
       "      <th id=\"T_05cfb_level0_row5\" class=\"row_heading level0 row5\" >5.329589710548937</th>\n",
       "      <td id=\"T_05cfb_row5_col0\" class=\"data row5 col0\" >236.918474</td>\n",
       "      <td id=\"T_05cfb_row5_col1\" class=\"data row5 col1\" >257.375023</td>\n",
       "    </tr>\n",
       "    <tr>\n",
       "      <th id=\"T_05cfb_level0_row6\" class=\"row_heading level0 row6\" >4.30592980778084</th>\n",
       "      <td id=\"T_05cfb_row6_col0\" class=\"data row6 col0\" >234.634409</td>\n",
       "      <td id=\"T_05cfb_row6_col1\" class=\"data row6 col1\" >259.182268</td>\n",
       "    </tr>\n",
       "    <tr>\n",
       "      <th id=\"T_05cfb_level0_row7\" class=\"row_heading level0 row7\" >4.124324661267887</th>\n",
       "      <td id=\"T_05cfb_row7_col0\" class=\"data row7 col0\" >235.934699</td>\n",
       "      <td id=\"T_05cfb_row7_col1\" class=\"data row7 col1\" >264.573868</td>\n",
       "    </tr>\n",
       "    <tr>\n",
       "      <th id=\"T_05cfb_level0_row8\" class=\"row_heading level0 row8\" >3.8206559838059198</th>\n",
       "      <td id=\"T_05cfb_row8_col0\" class=\"data row8 col0\" >236.721633</td>\n",
       "      <td id=\"T_05cfb_row8_col1\" class=\"data row8 col1\" >269.452112</td>\n",
       "    </tr>\n",
       "    <tr>\n",
       "      <th id=\"T_05cfb_level0_row9\" class=\"row_heading level0 row9\" >3.750360921910927</th>\n",
       "      <td id=\"T_05cfb_row9_col0\" class=\"data row9 col0\" >238.426880</td>\n",
       "      <td id=\"T_05cfb_row9_col1\" class=\"data row9 col1\" >275.248669</td>\n",
       "    </tr>\n",
       "    <tr>\n",
       "      <th id=\"T_05cfb_level0_row10\" class=\"row_heading level0 row10\" >3.5706527303139253</th>\n",
       "      <td id=\"T_05cfb_row10_col0\" class=\"data row10 col0\" >239.593259</td>\n",
       "      <td id=\"T_05cfb_row10_col1\" class=\"data row10 col1\" >280.506358</td>\n",
       "    </tr>\n",
       "    <tr>\n",
       "      <th id=\"T_05cfb_level0_row11\" class=\"row_heading level0 row11\" >3.550196867571607</th>\n",
       "      <td id=\"T_05cfb_row11_col0\" class=\"data row11 col0\" >241.489516</td>\n",
       "      <td id=\"T_05cfb_row11_col1\" class=\"data row11 col1\" >286.493925</td>\n",
       "    </tr>\n",
       "    <tr>\n",
       "      <th id=\"T_05cfb_level0_row12\" class=\"row_heading level0 row12\" >3.358373928063125</th>\n",
       "      <td id=\"T_05cfb_row12_col0\" class=\"data row12 col0\" >242.426181</td>\n",
       "      <td id=\"T_05cfb_row12_col1\" class=\"data row12 col1\" >291.521900</td>\n",
       "    </tr>\n",
       "    <tr>\n",
       "      <th id=\"T_05cfb_level0_row13\" class=\"row_heading level0 row13\" >3.2593351629987195</th>\n",
       "      <td id=\"T_05cfb_row13_col0\" class=\"data row13 col0\" >243.858619</td>\n",
       "      <td id=\"T_05cfb_row13_col1\" class=\"data row13 col1\" >297.045648</td>\n",
       "    </tr>\n",
       "    <tr>\n",
       "      <th id=\"T_05cfb_level0_row14\" class=\"row_heading level0 row14\" >3.2377243202847485</th>\n",
       "      <td id=\"T_05cfb_row14_col0\" class=\"data row14 col0\" >245.729948</td>\n",
       "      <td id=\"T_05cfb_row14_col1\" class=\"data row14 col1\" >303.008286</td>\n",
       "    </tr>\n",
       "    <tr>\n",
       "      <th id=\"T_05cfb_level0_row15\" class=\"row_heading level0 row15\" >2.850023364758167</th>\n",
       "      <td id=\"T_05cfb_row15_col0\" class=\"data row15 col0\" >245.091182</td>\n",
       "      <td id=\"T_05cfb_row15_col1\" class=\"data row15 col1\" >306.460830</td>\n",
       "    </tr>\n",
       "    <tr>\n",
       "      <th id=\"T_05cfb_level0_row16\" class=\"row_heading level0 row16\" >2.384495427736946</th>\n",
       "      <td id=\"T_05cfb_row16_col0\" class=\"data row16 col0\" >244.048934</td>\n",
       "      <td id=\"T_05cfb_row16_col1\" class=\"data row16 col1\" >309.509892</td>\n",
       "    </tr>\n",
       "    <tr>\n",
       "      <th id=\"T_05cfb_level0_row17\" class=\"row_heading level0 row17\" >2.2964378030512074</th>\n",
       "      <td id=\"T_05cfb_row17_col0\" class=\"data row17 col0\" >245.511049</td>\n",
       "      <td id=\"T_05cfb_row17_col1\" class=\"data row17 col1\" >315.063317</td>\n",
       "    </tr>\n",
       "    <tr>\n",
       "      <th id=\"T_05cfb_level0_row18\" class=\"row_heading level0 row18\" >2.031600057369728</th>\n",
       "      <td id=\"T_05cfb_row18_col0\" class=\"data row18 col0\" >245.886756</td>\n",
       "      <td id=\"T_05cfb_row18_col1\" class=\"data row18 col1\" >319.530333</td>\n",
       "    </tr>\n",
       "    <tr>\n",
       "      <th id=\"T_05cfb_level0_row19\" class=\"row_heading level0 row19\" >1.6182016892275153</th>\n",
       "      <td id=\"T_05cfb_row19_col0\" class=\"data row19 col0\" >245.585694</td>\n",
       "      <td id=\"T_05cfb_row19_col1\" class=\"data row19 col1\" >323.320582</td>\n",
       "    </tr>\n",
       "    <tr>\n",
       "      <th id=\"T_05cfb_level0_row20\" class=\"row_heading level0 row20\" >1.5265985986452664</th>\n",
       "      <td id=\"T_05cfb_row20_col0\" class=\"data row20 col0\" >247.130873</td>\n",
       "      <td id=\"T_05cfb_row20_col1\" class=\"data row20 col1\" >328.957071</td>\n",
       "    </tr>\n",
       "    <tr>\n",
       "      <th id=\"T_05cfb_level0_row21\" class=\"row_heading level0 row21\" >0.5868151348893137</th>\n",
       "      <td id=\"T_05cfb_row21_col0\" class=\"data row21 col0\" >245.594912</td>\n",
       "      <td id=\"T_05cfb_row21_col1\" class=\"data row21 col1\" >331.512419</td>\n",
       "    </tr>\n",
       "    <tr>\n",
       "      <th id=\"T_05cfb_level0_row22\" class=\"row_heading level0 row22\" >0.44605052926007854</th>\n",
       "      <td id=\"T_05cfb_row22_col0\" class=\"data row22 col0\" >247.280848</td>\n",
       "      <td id=\"T_05cfb_row22_col1\" class=\"data row22 col1\" >337.289666</td>\n",
       "    </tr>\n",
       "    <tr>\n",
       "      <th id=\"T_05cfb_level0_row23\" class=\"row_heading level0 row23\" >0.25902126265746944</th>\n",
       "      <td id=\"T_05cfb_row23_col0\" class=\"data row23 col0\" >248.979257</td>\n",
       "      <td id=\"T_05cfb_row23_col1\" class=\"data row23 col1\" >343.079384</td>\n",
       "    </tr>\n",
       "    <tr>\n",
       "      <th id=\"T_05cfb_level0_row24\" class=\"row_heading level0 row24\" >0.03217484419024806</th>\n",
       "      <td id=\"T_05cfb_row24_col0\" class=\"data row24 col0\" >247.863802</td>\n",
       "      <td id=\"T_05cfb_row24_col1\" class=\"data row24 col1\" >341.963929</td>\n",
       "    </tr>\n",
       "    <tr>\n",
       "      <th id=\"T_05cfb_level0_row25\" class=\"row_heading level0 row25\" >0.019066470086098214</th>\n",
       "      <td id=\"T_05cfb_row25_col0\" class=\"data row25 col0\" >247.859122</td>\n",
       "      <td id=\"T_05cfb_row25_col1\" class=\"data row25 col1\" >341.959249</td>\n",
       "    </tr>\n",
       "    <tr>\n",
       "      <th id=\"T_05cfb_level0_row26\" class=\"row_heading level0 row26\" >0.0</th>\n",
       "      <td id=\"T_05cfb_row26_col0\" class=\"data row26 col0\" >249.846321</td>\n",
       "      <td id=\"T_05cfb_row26_col1\" class=\"data row26 col1\" >348.037758</td>\n",
       "    </tr>\n",
       "  </tbody>\n",
       "</table>\n"
      ],
      "text/plain": [
       "<pandas.io.formats.style.Styler at 0x247f3ac4c70>"
      ]
     },
     "execution_count": 19,
     "metadata": {},
     "output_type": "execute_result"
    }
   ],
   "source": [
    "results.style.apply(highlight_min)"
   ]
  },
  {
   "cell_type": "markdown",
   "id": "3d29af6d-bf5d-4061-8d05-c38ddb38f37a",
   "metadata": {},
   "source": [
    "Finally, we can plot the AIC and BIC values for the different alpha values. The vertical lines in the plot correspond to the alpha chosen for each criterion. The selected alpha corresponds to the minimum of the AIC or BIC criterion."
   ]
  },
  {
   "cell_type": "code",
   "execution_count": 20,
   "id": "9cd240b0-80da-4d84-9ca9-c540a63239c9",
   "metadata": {},
   "outputs": [
    {
     "data": {
      "image/png": "[encoded data removed]",
      "text/plain": [
       "<Figure size 432x288 with 1 Axes>"
      ]
     },
     "metadata": {
      "needs_background": "light"
     },
     "output_type": "display_data"
    }
   ],
   "source": [
    "ax = results.plot()\n",
    "ax.vlines(\n",
    "    alpha_aic,\n",
    "    results[\"AIC criterion\"].min(),\n",
    "    results[\"AIC criterion\"].max(),\n",
    "    label=\"alpha: AIC estimate\",\n",
    "    linestyles=\"--\",\n",
    "    color=\"tab:blue\",\n",
    ")\n",
    "ax.vlines(\n",
    "    alpha_bic,\n",
    "    results[\"BIC criterion\"].min(),\n",
    "    results[\"BIC criterion\"].max(),\n",
    "    label=\"alpha: BIC estimate\",\n",
    "    linestyle=\"--\",\n",
    "    color=\"tab:orange\",\n",
    ")\n",
    "ax.set_xlabel(r\"$\\alpha$\")\n",
    "ax.set_ylabel(\"criterion\")\n",
    "#set log scale since alpha is from 0 to 45.3\n",
    "ax.set_xscale(\"log\")\n",
    "ax.legend()\n",
    "_ = ax.set_title(\n",
    "    f\"Information-criterion for model selection (training time {fit_time:.2f}s)\"\n",
    ")"
   ]
  },
  {
   "cell_type": "markdown",
   "id": "9d9ec6c1-489e-41a2-bb77-dc85dbe32691",
   "metadata": {},
   "source": [
    "Model selection with an information-criterion is very fast. It relies on computing the criterion on the in-sample set provided to fit. Both criteria estimate the model generalization error based on the training set error and penalize this overly optimistic error. However, this penalty relies on a proper estimation of the degrees of freedom and the noise variance. Both are derived for large samples (asymptotic results) and assume the model is correct, i.e. that the data are actually generated by this model.\n",
    "\n",
    "These models also tend to break when the problem is badly conditioned (more features than samples). It is then required to provide an estimate of the noise variance."
   ]
  },
  {
   "cell_type": "markdown",
   "id": "14f2037c-5d5b-4184-93c2-03649bae7040",
   "metadata": {},
   "source": [
    "**Cross Validation (CV)** is a very simple approach to apply without any probability and stats at all.\n",
    "Simple validation approach: We split the data into a training dataset and test data set. we fit our model on training dataset and evaluate our model on \"unseen\" dataset. Since there is only one test dataset, there maybe some noises\n",
    "\n",
    "**K fold CV** address the shortcomings of the simple validation approach. We divide the whole data set into k fold, we train the model on (k-1) folders and evaluate using the remaining fold. We obtained k test errors, finally we average them.\n",
    "\n",
    "**Leave One Out Cross Validation (LOOCV)**\n",
    "\n",
    "**Repeated k-fold CV**\n"
   ]
  },
  {
   "cell_type": "markdown",
   "id": "24cc379c-5966-4724-8f33-a9d7872f039a",
   "metadata": {},
   "source": [
    "## Selecting Lasso via cross-validation\n",
    "\n",
    "\n",
    "https://en.wikipedia.org/wiki/Cross-validation_(statistics)\n",
    "\n",
    "\n",
    "The Lasso estimator can be implemented with different solvers: coordinate descent and least angle regression. They differ with regards to their execution speed and sources of numerical errors.\n",
    "\n",
    "In scikit-learn, two different estimators are available with integrated cross-validation: LassoCV and LassoLarsCV that respectively solve the problem with coordinate descent and least angle regression.\n",
    "\n",
    "In the remainder of this section, we will present both approaches. For both algorithms, we will use a 20-fold cross-validation strategy.\n"
   ]
  },
  {
   "cell_type": "markdown",
   "id": "73ec85ed-f5d3-4d7c-981c-9520027a4339",
   "metadata": {},
   "source": [
    "### Lasso via coordinate descent\n",
    "Let’s start by making the hyperparameter tuning using LassoCV.\n",
    "https://scikit-learn.org/stable/modules/generated/sklearn.linear_model.LassoCV.html"
   ]
  },
  {
   "cell_type": "code",
   "execution_count": 21,
   "id": "e2370769-666e-44b0-b071-3846b219055e",
   "metadata": {},
   "outputs": [
    {
     "data": {
      "image/png": "[encoded data removed]",
      "text/plain": [
       "<Figure size 432x288 with 1 Axes>"
      ]
     },
     "metadata": {
      "needs_background": "light"
     },
     "output_type": "display_data"
    }
   ],
   "source": [
    "#library for lasso CV\n",
    "from sklearn.linear_model import LassoCV\n",
    "\n",
    "start_time = time.time()\n",
    "model = make_pipeline(StandardScaler(), LassoCV(cv=20)).fit(X, y)\n",
    "fit_time = time.time() - start_time\n",
    "import matplotlib.pyplot as plt\n",
    "\n",
    "ymin, ymax = 2300, 3800\n",
    "lasso = model[-1]\n",
    "plt.semilogx(lasso.alphas_, lasso.mse_path_, linestyle=\":\")\n",
    "plt.plot(\n",
    "    lasso.alphas_,\n",
    "    lasso.mse_path_.mean(axis=-1),\n",
    "    color=\"black\",\n",
    "    label=\"Average across the folds\",\n",
    "    linewidth=2,\n",
    ")\n",
    "plt.axvline(lasso.alpha_, linestyle=\"--\", color=\"black\", label=\"alpha: CV estimate\")\n",
    "\n",
    "plt.ylim(ymin, ymax)\n",
    "plt.xlabel(r\"$\\alpha$\")\n",
    "plt.ylabel(\"Mean square error\")\n",
    "plt.legend()\n",
    "_ = plt.title(\n",
    "    f\"Mean square error on each fold: coordinate descent (train time: {fit_time:.2f}s)\"\n",
    ")"
   ]
  },
  {
   "cell_type": "markdown",
   "id": "ccba665b-9db4-469c-a5a7-88e9f8877b2c",
   "metadata": {},
   "source": [
    "## Lasso via least angle regression\n",
    "Let’s start by making the hyperparameter tuning using LassoLarsCV."
   ]
  },
  {
   "cell_type": "code",
   "execution_count": 22,
   "id": "ff835580-c55e-45c3-a2a2-fecb3128f48a",
   "metadata": {},
   "outputs": [],
   "source": [
    "from sklearn.linear_model import LassoLarsCV\n",
    "\n",
    "start_time = time.time()\n",
    "model = make_pipeline(StandardScaler(), LassoLarsCV(cv=20, normalize=False)).fit(X, y)\n",
    "fit_time = time.time() - start_time"
   ]
  },
  {
   "cell_type": "code",
   "execution_count": 23,
   "id": "f04838bf-7ee3-4ed4-afa1-69fca9932d22",
   "metadata": {},
   "outputs": [
    {
     "data": {
      "image/png": "[encoded data removed]",
      "text/plain": [
       "<Figure size 432x288 with 1 Axes>"
      ]
     },
     "metadata": {
      "needs_background": "light"
     },
     "output_type": "display_data"
    }
   ],
   "source": [
    "lasso = model[-1]\n",
    "plt.semilogx(lasso.cv_alphas_, lasso.mse_path_, \":\")\n",
    "plt.semilogx(\n",
    "    lasso.cv_alphas_,\n",
    "    lasso.mse_path_.mean(axis=-1),\n",
    "    color=\"black\",\n",
    "    label=\"Average across the folds\",\n",
    "    linewidth=2,\n",
    ")\n",
    "plt.axvline(lasso.alpha_, linestyle=\"--\", color=\"black\", label=\"alpha CV\")\n",
    "\n",
    "plt.ylim(ymin, ymax)\n",
    "plt.xlabel(r\"$\\alpha$\")\n",
    "plt.ylabel(\"Mean square error\")\n",
    "plt.legend()\n",
    "_ = plt.title(f\"Mean square error on each fold: Lars (train time: {fit_time:.2f}s)\")"
   ]
  },
  {
   "cell_type": "markdown",
   "id": "b5eba9f2-8bab-441a-aea7-81705ea722df",
   "metadata": {},
   "source": [
    "### Summary of cross-validation approach\n",
    "\n",
    "Both algorithms give roughly the same results.\n",
    "\n",
    "Lars computes a solution path only for each kink in the path. As a result, it is very efficient when there are only of few kinks, which is the case if there are few features or samples. Also, it is able to compute the full path without setting any hyperparameter. On the opposite, coordinate descent computes the path points on a pre-specified grid (here we use the default). Thus it is more efficient if the number of grid points is smaller than the number of kinks in the path. Such a strategy can be interesting if the number of features is really large and there are enough samples to be selected in each of the cross-validation fold. In terms of numerical errors, for heavily correlated variables, Lars will accumulate more errors, while the coordinate descent algorithm will only sample the path on a grid.\n",
    "\n",
    "Note how the optimal value of alpha varies for each fold. This illustrates why nested-cross validation is a good strategy when trying to evaluate the performance of a method for which a parameter is chosen by cross-validation: this choice of parameter may not be optimal for a final evaluation on unseen test set only."
   ]
  },
  {
   "cell_type": "markdown",
   "id": "c79c0584-4086-457c-8ba5-b026249eb8e8",
   "metadata": {},
   "source": [
    "## Conclusion\n",
    "In this tutorial, we presented two approaches for selecting the best hyperparameter alpha: one strategy finds the optimal value of alpha by only using the training set and some information criterion, and another strategy is based on cross-validation.\n",
    "\n",
    "In this example, both approaches are working similarly. The in-sample hyperparameter selection even shows its efficacy in terms of computational performance. However, it can only be used when the number of samples is large enough compared to the number of features.\n",
    "\n",
    "That’s why hyperparameter optimization via cross-validation is a safe strategy: it works in different settings."
   ]
  },
  {
   "cell_type": "code",
   "execution_count": null,
   "id": "d040522f-ea7f-4e0e-8b2b-f99b953b54c8",
   "metadata": {},
   "outputs": [],
   "source": []
  }
 ],
 "metadata": {
  "kernelspec": {
   "display_name": "Python 3 (ipykernel)",
   "language": "python",
   "name": "python3"
  },
  "language_info": {
   "codemirror_mode": {
    "name": "ipython",
    "version": 3
   },
   "file_extension": ".py",
   "mimetype": "text/x-python",
   "name": "python",
   "nbconvert_exporter": "python",
   "pygments_lexer": "ipython3",
   "version": "3.9.12"
  }
 },
 "nbformat": 4,
 "nbformat_minor": 5
}
